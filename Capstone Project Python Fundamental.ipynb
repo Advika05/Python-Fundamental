{
 "cells": [
  {
   "cell_type": "code",
   "execution_count": 142,
   "id": "cc8c4cfe-0daf-419d-afbb-6dc90ab7c63a",
   "metadata": {},
   "outputs": [],
   "source": [
    "import numpy as np\n",
    "import pandas as pd"
   ]
  },
  {
   "cell_type": "markdown",
   "id": "323ff385-4319-4b68-9f51-dffec84cf594",
   "metadata": {},
   "source": [
    "# TASK 1"
   ]
  },
  {
   "cell_type": "code",
   "execution_count": 145,
   "id": "457143b8-b357-43c9-8a1f-10cd5c535cf5",
   "metadata": {},
   "outputs": [
    {
     "name": "stdout",
     "output_type": "stream",
     "text": [
      "      ID     Project       Cost    Status\n",
      "0   A001   Project 1  1002000.0  Finished\n",
      "1   A002   Project 2  2000000.0   Ongoing\n",
      "2   A003   Project 3  4500000.0  Finished\n",
      "3   A004   Project 4  5500000.0   Ongoing\n",
      "4   A005   Project 5        NaN  Finished\n",
      "5   A002   Project 6   680000.0    Failed\n",
      "6   A005   Project 7   400000.0  Finished\n",
      "7   A003   Project 8   350000.0    Failed\n",
      "8   A001   Project 9        NaN   Ongoing\n",
      "9   A003  Project 10   300000.0  Finished\n",
      "10  A001  Project 11  2000000.0    Failed\n",
      "11  A004  Project 12  1000000.0   Ongoing\n",
      "12  A004  Project 13  3000000.0  Finished\n",
      "13  A005  Project 14   200000.0  Finished\n"
     ]
    }
   ],
   "source": [
    "Project_data={\n",
    "    'ID':['A001','A002','A003','A004','A005','A002','A005','A003','A001','A003','A001','A004','A004','A005'],\n",
    "    'Project':['Project 1','Project 2','Project 3','Project 4','Project 5','Project 6','Project 7','Project 8','Project 9','Project 10','Project 11','Project 12','Project 13','Project 14'],\n",
    "    'Cost':[1002000,2000000,4500000,5500000,np.nan,680000,400000,350000,np.nan,300000,2000000,1000000,3000000,200000],\n",
    "    'Status':['Finished','Ongoing','Finished','Ongoing','Finished','Failed','Finished','Failed','Ongoing','Finished','Failed','Ongoing','Finished','Finished']\n",
    "}\n",
    "#Creating Dataframe\n",
    "project_df=pd.DataFrame(Project_data)\n",
    "#Saving dataframe to csv\n",
    "project_df.to_csv('Project.csv',index=False)\n",
    "print(project_df)"
   ]
  },
  {
   "cell_type": "code",
   "execution_count": 147,
   "id": "6c96b823-f306-4217-a347-7017d35204f8",
   "metadata": {},
   "outputs": [
    {
     "name": "stdout",
     "output_type": "stream",
     "text": [
      "     ID             Name Gender     City  Age\n",
      "0  A001       John Alter      M    Paris   25\n",
      "1  A002  Alice Luxumberg      F   London   27\n",
      "2  A003    Tom Sabestine      M   Berlin   29\n",
      "3  A004       Nina Adgra      F  Newyork   31\n",
      "4  A005        Amy Johny      F   Madrid   30\n"
     ]
    }
   ],
   "source": [
    "Employee_data={\n",
    "    'ID':['A001','A002','A003','A004','A005'],\n",
    "    'Name':['John Alter', 'Alice Luxumberg', 'Tom Sabestine', 'Nina Adgra', 'Amy Johny'],\n",
    "    'Gender':['M','F','M','F','F'],\n",
    "    'City':['Paris','London','Berlin','Newyork','Madrid'],\n",
    "    'Age':[25,27,29,31,30]\n",
    "}\n",
    "#Creating Dataframe\n",
    "employee_df=pd.DataFrame(Employee_data)\n",
    "#Saving dataframe to csv\n",
    "employee_df.to_csv('employee.csv',index=False)\n",
    "print(employee_df)"
   ]
  },
  {
   "cell_type": "code",
   "execution_count": 149,
   "id": "e88ab6da-3a55-4094-a337-8b4cb91ff48b",
   "metadata": {},
   "outputs": [
    {
     "name": "stdout",
     "output_type": "stream",
     "text": [
      "     ID  Designation Level\n",
      "0  A001                  2\n",
      "1  A002                  2\n",
      "2  A003                  3\n",
      "3  A004                  2\n",
      "4  A005                  3\n"
     ]
    }
   ],
   "source": [
    "Seniority_data={\n",
    "    'ID':['A001','A002','A003','A004','A005'],\n",
    "    'Designation Level':[2,2,3,2,3]\n",
    "}\n",
    "#Creating Dataframe\n",
    "seniority_df=pd.DataFrame(Seniority_data)\n",
    "#Saving dataframe to csv\n",
    "seniority_df.to_csv('seniority.csv',index=False)\n",
    "print(seniority_df)"
   ]
  },
  {
   "cell_type": "markdown",
   "id": "ce18d0f3-7475-4ce1-9915-58c3374f525f",
   "metadata": {},
   "source": [
    "# TASK 2"
   ]
  },
  {
   "cell_type": "code",
   "execution_count": 152,
   "id": "f6541644-ad88-40bc-b642-6f78d70e2869",
   "metadata": {},
   "outputs": [
    {
     "name": "stdout",
     "output_type": "stream",
     "text": [
      "      ID     Project       Cost    Status\n",
      "0   A001   Project 1  1002000.0  Finished\n",
      "1   A002   Project 2  2000000.0   Ongoing\n",
      "2   A003   Project 3  4500000.0  Finished\n",
      "3   A004   Project 4  5500000.0   Ongoing\n",
      "4   A005   Project 5  3250500.0  Finished\n",
      "5   A002   Project 6   680000.0    Failed\n",
      "6   A005   Project 7   400000.0  Finished\n",
      "7   A003   Project 8   350000.0    Failed\n",
      "8   A001   Project 9  2210312.5   Ongoing\n",
      "9   A003  Project 10   300000.0  Finished\n",
      "10  A001  Project 11  2000000.0    Failed\n",
      "11  A004  Project 12  1000000.0   Ongoing\n",
      "12  A004  Project 13  3000000.0  Finished\n",
      "13  A005  Project 14   200000.0  Finished\n"
     ]
    }
   ],
   "source": [
    "#Fill missing cost values with running average\n",
    "costs = project_df[\"Cost\"].values\n",
    "for i in range(len(costs)):\n",
    "    if np.isnan(costs[i]): #Checking the value is null or not\n",
    "        costs[i] = np.nanmean(costs[:i]) \n",
    "project_df[\"Cost\"] = costs  #Changing null values by runing average\n",
    "print(project_df)"
   ]
  },
  {
   "cell_type": "markdown",
   "id": "63285105-64cd-4f56-9fdc-6df2731cc81e",
   "metadata": {},
   "source": [
    "# TASK 3"
   ]
  },
  {
   "cell_type": "code",
   "execution_count": 155,
   "id": "62b80be6-42ed-4e80-b17f-365c07f9b7e6",
   "metadata": {},
   "outputs": [
    {
     "name": "stdout",
     "output_type": "stream",
     "text": [
      "     ID Gender     City  Age First Name  Last Name\n",
      "0  A001      M    Paris   25       John      Alter\n",
      "1  A002      F   London   27      Alice  Luxumberg\n",
      "2  A003      M   Berlin   29        Tom  Sabestine\n",
      "3  A004      F  Newyork   31       Nina      Adgra\n",
      "4  A005      F   Madrid   30        Amy      Johny\n"
     ]
    }
   ],
   "source": [
    "#Split the Name column into First Name and Last Name\n",
    "employee_df[['First Name', 'Last Name']] = employee_df['Name'].str.split(' ', expand=True) #spliting first name and last name\n",
    "employee_df.drop(columns=['Name'], inplace=True) #deleting name column\n",
    "print(employee_df)"
   ]
  },
  {
   "cell_type": "markdown",
   "id": "b392696f-8f97-41be-8f4a-8e71a3c682f9",
   "metadata": {},
   "source": [
    "# TASK 4"
   ]
  },
  {
   "cell_type": "code",
   "execution_count": 158,
   "id": "e35b1959-8271-4573-851c-037eb429bc48",
   "metadata": {},
   "outputs": [
    {
     "name": "stdout",
     "output_type": "stream",
     "text": [
      "      ID Gender     City  Age First Name  Last Name  Designation Level  \\\n",
      "0   A001      M    Paris   25       John      Alter                  2   \n",
      "1   A001      M    Paris   25       John      Alter                  2   \n",
      "2   A001      M    Paris   25       John      Alter                  2   \n",
      "3   A002      F   London   27      Alice  Luxumberg                  2   \n",
      "4   A002      F   London   27      Alice  Luxumberg                  2   \n",
      "5   A003      M   Berlin   29        Tom  Sabestine                  3   \n",
      "6   A003      M   Berlin   29        Tom  Sabestine                  3   \n",
      "7   A003      M   Berlin   29        Tom  Sabestine                  3   \n",
      "8   A004      F  Newyork   31       Nina      Adgra                  2   \n",
      "9   A004      F  Newyork   31       Nina      Adgra                  2   \n",
      "10  A004      F  Newyork   31       Nina      Adgra                  2   \n",
      "11  A005      F   Madrid   30        Amy      Johny                  3   \n",
      "12  A005      F   Madrid   30        Amy      Johny                  3   \n",
      "13  A005      F   Madrid   30        Amy      Johny                  3   \n",
      "\n",
      "       Project       Cost    Status  \n",
      "0    Project 1  1002000.0  Finished  \n",
      "1    Project 9  2210312.5   Ongoing  \n",
      "2   Project 11  2000000.0    Failed  \n",
      "3    Project 2  2000000.0   Ongoing  \n",
      "4    Project 6   680000.0    Failed  \n",
      "5    Project 3  4500000.0  Finished  \n",
      "6    Project 8   350000.0    Failed  \n",
      "7   Project 10   300000.0  Finished  \n",
      "8    Project 4  5500000.0   Ongoing  \n",
      "9   Project 12  1000000.0   Ongoing  \n",
      "10  Project 13  3000000.0  Finished  \n",
      "11   Project 5  3250500.0  Finished  \n",
      "12   Project 7   400000.0  Finished  \n",
      "13  Project 14   200000.0  Finished  \n"
     ]
    }
   ],
   "source": [
    "#Merge all dataframes into one Final dataframe\n",
    "final_df = employee_df.merge(seniority_df, on='ID').merge(project_df, on='ID') #merging all dataframes\n",
    "print(final_df)"
   ]
  },
  {
   "cell_type": "markdown",
   "id": "56110810-c825-4522-a9b3-9901e8c00aba",
   "metadata": {},
   "source": [
    "# TASK 5"
   ]
  },
  {
   "cell_type": "code",
   "execution_count": 161,
   "id": "77c34a55-1e12-4a21-83ed-36c4fe0ce057",
   "metadata": {},
   "outputs": [
    {
     "name": "stdout",
     "output_type": "stream",
     "text": [
      "      ID Gender     City  Age First Name  Last Name  Designation Level  \\\n",
      "0   A001      M    Paris   25       John      Alter                  2   \n",
      "1   A001      M    Paris   25       John      Alter                  2   \n",
      "2   A001      M    Paris   25       John      Alter                  2   \n",
      "3   A002      F   London   27      Alice  Luxumberg                  2   \n",
      "4   A002      F   London   27      Alice  Luxumberg                  2   \n",
      "5   A003      M   Berlin   29        Tom  Sabestine                  3   \n",
      "6   A003      M   Berlin   29        Tom  Sabestine                  3   \n",
      "7   A003      M   Berlin   29        Tom  Sabestine                  3   \n",
      "8   A004      F  Newyork   31       Nina      Adgra                  2   \n",
      "9   A004      F  Newyork   31       Nina      Adgra                  2   \n",
      "10  A004      F  Newyork   31       Nina      Adgra                  2   \n",
      "11  A005      F   Madrid   30        Amy      Johny                  3   \n",
      "12  A005      F   Madrid   30        Amy      Johny                  3   \n",
      "13  A005      F   Madrid   30        Amy      Johny                  3   \n",
      "\n",
      "       Project       Cost    Status     Bonus  \n",
      "0    Project 1  1002000.0  Finished   50100.0  \n",
      "1    Project 9  2210312.5   Ongoing       0.0  \n",
      "2   Project 11  2000000.0    Failed       0.0  \n",
      "3    Project 2  2000000.0   Ongoing       0.0  \n",
      "4    Project 6   680000.0    Failed       0.0  \n",
      "5    Project 3  4500000.0  Finished  225000.0  \n",
      "6    Project 8   350000.0    Failed       0.0  \n",
      "7   Project 10   300000.0  Finished   15000.0  \n",
      "8    Project 4  5500000.0   Ongoing       0.0  \n",
      "9   Project 12  1000000.0   Ongoing       0.0  \n",
      "10  Project 13  3000000.0  Finished  150000.0  \n",
      "11   Project 5  3250500.0  Finished  162525.0  \n",
      "12   Project 7   400000.0  Finished   20000.0  \n",
      "13  Project 14   200000.0  Finished   10000.0  \n"
     ]
    }
   ],
   "source": [
    "#Add Bonus column ,5% bonus for finished projects\n",
    "final_df['Bonus'] = np.where(final_df['Status'] == 'Finished', final_df['Cost'] * 0.05, 0) #Filtering where project is done and giving them 5% bonus\n",
    "print(final_df) "
   ]
  },
  {
   "cell_type": "markdown",
   "id": "635e1f9e-4c56-4562-8f29-8d183786c231",
   "metadata": {},
   "source": [
    "# TASK 6"
   ]
  },
  {
   "cell_type": "code",
   "execution_count": 164,
   "id": "accb59dc-1d7e-49f5-a9c5-8918f4b21952",
   "metadata": {},
   "outputs": [
    {
     "name": "stdout",
     "output_type": "stream",
     "text": [
      "      ID Gender     City  Age First Name  Last Name  Designation Level  \\\n",
      "0   A001      M    Paris   25       John      Alter                  2   \n",
      "1   A001      M    Paris   25       John      Alter                  2   \n",
      "2   A001      M    Paris   25       John      Alter                  1   \n",
      "3   A002      F   London   27      Alice  Luxumberg                  2   \n",
      "4   A002      F   London   27      Alice  Luxumberg                  1   \n",
      "5   A003      M   Berlin   29        Tom  Sabestine                  3   \n",
      "6   A003      M   Berlin   29        Tom  Sabestine                  2   \n",
      "7   A003      M   Berlin   29        Tom  Sabestine                  3   \n",
      "8   A004      F  Newyork   31       Nina      Adgra                  2   \n",
      "9   A004      F  Newyork   31       Nina      Adgra                  2   \n",
      "10  A004      F  Newyork   31       Nina      Adgra                  2   \n",
      "11  A005      F   Madrid   30        Amy      Johny                  3   \n",
      "12  A005      F   Madrid   30        Amy      Johny                  3   \n",
      "13  A005      F   Madrid   30        Amy      Johny                  3   \n",
      "\n",
      "       Project       Cost    Status     Bonus  \n",
      "0    Project 1  1002000.0  Finished   50100.0  \n",
      "1    Project 9  2210312.5   Ongoing       0.0  \n",
      "2   Project 11  2000000.0    Failed       0.0  \n",
      "3    Project 2  2000000.0   Ongoing       0.0  \n",
      "4    Project 6   680000.0    Failed       0.0  \n",
      "5    Project 3  4500000.0  Finished  225000.0  \n",
      "6    Project 8   350000.0    Failed       0.0  \n",
      "7   Project 10   300000.0  Finished   15000.0  \n",
      "8    Project 4  5500000.0   Ongoing       0.0  \n",
      "9   Project 12  1000000.0   Ongoing       0.0  \n",
      "10  Project 13  3000000.0  Finished  150000.0  \n",
      "11   Project 5  3250500.0  Finished  162525.0  \n",
      "12   Project 7   400000.0  Finished   20000.0  \n",
      "13  Project 14   200000.0  Finished   10000.0  \n"
     ]
    }
   ],
   "source": [
    "#Demote designation level and removing employee above 4 designation level\n",
    "final_df.loc[final_df['Status'] == 'Failed', 'Designation Level'] -= 1 #Demoting\n",
    "final_df = final_df[final_df['Designation Level'] <= 4] #removing above 4\n",
    "print(final_df)"
   ]
  },
  {
   "cell_type": "markdown",
   "id": "b32c50f4-dc10-4b9a-a1d2-6c75c6aa9fd2",
   "metadata": {},
   "source": [
    "# TASK 7"
   ]
  },
  {
   "cell_type": "code",
   "execution_count": 167,
   "id": "17e1969c-d775-44a8-b477-49b672b6f629",
   "metadata": {},
   "outputs": [
    {
     "name": "stdout",
     "output_type": "stream",
     "text": [
      "      ID     City  Age  First Name  Last Name  Designation Level     Project  \\\n",
      "0   A001    Paris   25    Mr. John      Alter                  2   Project 1   \n",
      "1   A001    Paris   25    Mr. John      Alter                  2   Project 9   \n",
      "2   A001    Paris   25    Mr. John      Alter                  1  Project 11   \n",
      "3   A002   London   27  Mrs. Alice  Luxumberg                  2   Project 2   \n",
      "4   A002   London   27  Mrs. Alice  Luxumberg                  1   Project 6   \n",
      "5   A003   Berlin   29     Mr. Tom  Sabestine                  3   Project 3   \n",
      "6   A003   Berlin   29     Mr. Tom  Sabestine                  2   Project 8   \n",
      "7   A003   Berlin   29     Mr. Tom  Sabestine                  3  Project 10   \n",
      "8   A004  Newyork   31   Mrs. Nina      Adgra                  2   Project 4   \n",
      "9   A004  Newyork   31   Mrs. Nina      Adgra                  2  Project 12   \n",
      "10  A004  Newyork   31   Mrs. Nina      Adgra                  2  Project 13   \n",
      "11  A005   Madrid   30    Mrs. Amy      Johny                  3   Project 5   \n",
      "12  A005   Madrid   30    Mrs. Amy      Johny                  3   Project 7   \n",
      "13  A005   Madrid   30    Mrs. Amy      Johny                  3  Project 14   \n",
      "\n",
      "         Cost    Status     Bonus  \n",
      "0   1002000.0  Finished   50100.0  \n",
      "1   2210312.5   Ongoing       0.0  \n",
      "2   2000000.0    Failed       0.0  \n",
      "3   2000000.0   Ongoing       0.0  \n",
      "4    680000.0    Failed       0.0  \n",
      "5   4500000.0  Finished  225000.0  \n",
      "6    350000.0    Failed       0.0  \n",
      "7    300000.0  Finished   15000.0  \n",
      "8   5500000.0   Ongoing       0.0  \n",
      "9   1000000.0   Ongoing       0.0  \n",
      "10  3000000.0  Finished  150000.0  \n",
      "11  3250500.0  Finished  162525.0  \n",
      "12   400000.0  Finished   20000.0  \n",
      "13   200000.0  Finished   10000.0  \n"
     ]
    }
   ],
   "source": [
    "# Adding 'Mr' and 'Mrs' to First Name column\n",
    "final_df['First Name'] = final_df.apply(lambda x: ('Mr. ' if x['Gender'] == 'M' else 'Mrs. ') + x['First Name'], axis=1) #Mr. for Male and Mrs. for Female\n",
    "final_df.drop(columns=['Gender'], inplace=True) #deleting Gender column\n",
    "print(final_df)"
   ]
  },
  {
   "cell_type": "markdown",
   "id": "f6af1cf7-e66a-4045-9ecf-cb5d1131bf20",
   "metadata": {},
   "source": [
    "# TASK 8"
   ]
  },
  {
   "cell_type": "code",
   "execution_count": 170,
   "id": "34296138-f479-456d-9325-374a4bbd0dc6",
   "metadata": {},
   "outputs": [
    {
     "name": "stdout",
     "output_type": "stream",
     "text": [
      "      ID     City  Age  First Name  Last Name  Designation Level     Project  \\\n",
      "0   A001    Paris   25    Mr. John      Alter                  2   Project 1   \n",
      "1   A001    Paris   25    Mr. John      Alter                  2   Project 9   \n",
      "2   A001    Paris   25    Mr. John      Alter                  1  Project 11   \n",
      "3   A002   London   27  Mrs. Alice  Luxumberg                  2   Project 2   \n",
      "4   A002   London   27  Mrs. Alice  Luxumberg                  1   Project 6   \n",
      "5   A003   Berlin   29     Mr. Tom  Sabestine                  3   Project 3   \n",
      "6   A003   Berlin   29     Mr. Tom  Sabestine                  2   Project 8   \n",
      "7   A003   Berlin   29     Mr. Tom  Sabestine                  3  Project 10   \n",
      "8   A004  Newyork   31   Mrs. Nina      Adgra                  3   Project 4   \n",
      "9   A004  Newyork   31   Mrs. Nina      Adgra                  3  Project 12   \n",
      "10  A004  Newyork   31   Mrs. Nina      Adgra                  3  Project 13   \n",
      "11  A005   Madrid   30    Mrs. Amy      Johny                  4   Project 5   \n",
      "12  A005   Madrid   30    Mrs. Amy      Johny                  4   Project 7   \n",
      "13  A005   Madrid   30    Mrs. Amy      Johny                  4  Project 14   \n",
      "\n",
      "         Cost    Status     Bonus  \n",
      "0   1002000.0  Finished   50100.0  \n",
      "1   2210312.5   Ongoing       0.0  \n",
      "2   2000000.0    Failed       0.0  \n",
      "3   2000000.0   Ongoing       0.0  \n",
      "4    680000.0    Failed       0.0  \n",
      "5   4500000.0  Finished  225000.0  \n",
      "6    350000.0    Failed       0.0  \n",
      "7    300000.0  Finished   15000.0  \n",
      "8   5500000.0   Ongoing       0.0  \n",
      "9   1000000.0   Ongoing       0.0  \n",
      "10  3000000.0  Finished  150000.0  \n",
      "11  3250500.0  Finished  162525.0  \n",
      "12   400000.0  Finished   20000.0  \n",
      "13   200000.0  Finished   10000.0  \n"
     ]
    }
   ],
   "source": [
    "#Promote employees above 29 years old\n",
    "final_df['Designation Level'] = final_df.apply(lambda x: x['Designation Level'] + 1 if x['Age'] > 29 else x['Designation Level'], axis = 1) #increasing designation by 1 if the age is greater than 29\n",
    "print(final_df)"
   ]
  },
  {
   "cell_type": "markdown",
   "id": "99dd5b40-05b3-49f8-a6ae-f57ef8f4c947",
   "metadata": {},
   "source": [
    "# TASK 9"
   ]
  },
  {
   "cell_type": "code",
   "execution_count": 173,
   "id": "01396c1c-c860-4cde-87a0-537d92d23d76",
   "metadata": {},
   "outputs": [
    {
     "name": "stdout",
     "output_type": "stream",
     "text": [
      "     ID  First Name  Total Cost\n",
      "0  A001    Mr. John   5212312.5\n",
      "1  A002  Mrs. Alice   2680000.0\n",
      "2  A003     Mr. Tom   5150000.0\n",
      "3  A004   Mrs. Nina   9500000.0\n",
      "4  A005    Mrs. Amy   3850500.0\n"
     ]
    }
   ],
   "source": [
    "#Calculate Total Project Cost for each Employee\n",
    "TotalProjCost = final_df.groupby(['ID', 'First Name'])['Cost'].sum().reset_index() #Creating new dataframe\n",
    "TotalProjCost.rename(columns={'Cost': 'Total Cost'}, inplace=True) #renaming cost to Total Cost\n",
    "TotalProjCost.to_csv(\"TotalProjCost.csv\", index=False) #saving dataframe to csv\n",
    "print(TotalProjCost)"
   ]
  },
  {
   "cell_type": "markdown",
   "id": "f5003bc7-9797-48e6-9f78-277009fac23c",
   "metadata": {},
   "source": [
    "# TASK 10"
   ]
  },
  {
   "cell_type": "code",
   "execution_count": 176,
   "id": "f54863a0-3aff-4081-93a1-8822ca2db045",
   "metadata": {},
   "outputs": [
    {
     "name": "stdout",
     "output_type": "stream",
     "text": [
      "      ID     City  Age  First Name  Last Name  Designation Level     Project  \\\n",
      "3   A002   London   27  Mrs. Alice  Luxumberg                  2   Project 2   \n",
      "4   A002   London   27  Mrs. Alice  Luxumberg                  1   Project 6   \n",
      "8   A004  Newyork   31   Mrs. Nina      Adgra                  3   Project 4   \n",
      "9   A004  Newyork   31   Mrs. Nina      Adgra                  3  Project 12   \n",
      "10  A004  Newyork   31   Mrs. Nina      Adgra                  3  Project 13   \n",
      "\n",
      "         Cost    Status     Bonus  \n",
      "3   2000000.0   Ongoing       0.0  \n",
      "4    680000.0    Failed       0.0  \n",
      "8   5500000.0   Ongoing       0.0  \n",
      "9   1000000.0   Ongoing       0.0  \n",
      "10  3000000.0  Finished  150000.0  \n"
     ]
    }
   ],
   "source": [
    "#Print employees with 'o' in city name\n",
    "employees_with_o = final_df[final_df['City'].str.contains('o', case=False,)] #searching employees with o in there city\n",
    "print(employees_with_o)\n"
   ]
  },
  {
   "cell_type": "code",
   "execution_count": null,
   "id": "524da276-06ac-443a-b11a-960d9645d845",
   "metadata": {},
   "outputs": [],
   "source": []
  }
 ],
 "metadata": {
  "kernelspec": {
   "display_name": "Python 3 (ipykernel)",
   "language": "python",
   "name": "python3"
  },
  "language_info": {
   "codemirror_mode": {
    "name": "ipython",
    "version": 3
   },
   "file_extension": ".py",
   "mimetype": "text/x-python",
   "name": "python",
   "nbconvert_exporter": "python",
   "pygments_lexer": "ipython3",
   "version": "3.12.7"
  }
 },
 "nbformat": 4,
 "nbformat_minor": 5
}
